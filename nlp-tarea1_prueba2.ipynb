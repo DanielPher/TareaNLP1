{
 "cells": [
  {
   "cell_type": "markdown",
   "metadata": {
    "id": "rEJBSTyZIrIb"
   },
   "source": [
    "# Tarea 1: Classificaton Fine-tuning"
   ]
  },
  {
   "cell_type": "code",
   "execution_count": 1,
   "metadata": {
    "colab": {
     "background_save": true
    },
    "execution": {
     "iopub.execute_input": "2025-09-24T17:44:44.682671Z",
     "iopub.status.busy": "2025-09-24T17:44:44.682240Z",
     "iopub.status.idle": "2025-09-24T17:44:48.354598Z",
     "shell.execute_reply": "2025-09-24T17:44:48.353374Z"
    },
    "id": "P0rfSVlNR2cq",
    "outputId": "56327ad3-6303-4056-bbfa-d4a38618faca"
   },
   "outputs": [
    {
     "name": "stdout",
     "output_type": "stream",
     "text": [
      "Is CUDA available: False\n",
      "CUDA version: None\n",
      "Number of GPUs available: 0\n"
     ]
    },
    {
     "name": "stderr",
     "output_type": "stream",
     "text": [
      "/root/.pyenv/versions/3.12.10/lib/python3.12/site-packages/tqdm/auto.py:21: TqdmWarning: IProgress not found. Please update jupyter and ipywidgets. See https://ipywidgets.readthedocs.io/en/stable/user_install.html\n",
      "  from .autonotebook import tqdm as notebook_tqdm\n"
     ]
    }
   ],
   "source": [
    "# Librerías\n",
    "\n",
    "import json\n",
    "import logging\n",
    "from dataclasses import dataclass, asdict\n",
    "from pathlib import Path\n",
    "import random\n",
    "from types import SimpleNamespace\n",
    "\n",
    "import numpy as np\n",
    "import torch\n",
    "\n",
    "logging.getLogger(\"transformers\").setLevel(logging.ERROR)\n",
    "\n",
    "print(\"Is CUDA available:\", torch.cuda.is_available())\n",
    "print(\"CUDA version:\", torch.version.cuda)\n",
    "print(\"Number of GPUs available:\", torch.cuda.device_count())\n",
    "\n",
    "from time import time\n",
    "from datasets import Dataset, DatasetDict, Features, ClassLabel, Value\n",
    "import datasets as datasets_module\n",
    "from sklearn.metrics import *\n",
    "import matplotlib.pyplot as plt\n",
    "\n",
    "SEED = 42\n",
    "np.random.seed(SEED)\n",
    "random.seed(SEED)\n",
    "torch.manual_seed(SEED)\n",
    "\n",
    "LABEL_NAMES = [\"entailment\", \"neutral\", \"contradiction\"]\n",
    "SPLIT_SIZES = {\"train\": 13635, \"validation_matched\": 413, \"validation_mismatched\": 296}\n",
    "MARKERS = [\"alpha\", \"beta\", \"gamma\"]\n",
    "MAX_SEQ_LENGTH = 16\n",
    "MODEL_DIR = Path(\"./custom_bert_mnli\")\n",
    "\n",
    "\n",
    "class SimpleTokenizer:\n",
    "    def __init__(self, vocab: dict[str, int]):\n",
    "        self.vocab = vocab\n",
    "        self.pad_token_id = vocab[\"[PAD]\"]\n",
    "        self.cls_token_id = vocab[\"[CLS]\"]\n",
    "        self.sep_token_id = vocab[\"[SEP]\"]\n",
    "        self.unk_token_id = vocab[\"[UNK]\"]\n",
    "\n",
    "    def _encode_text(self, text: str) -> list[int]:\n",
    "        return [self.vocab.get(token, self.unk_token_id) for token in text.split()]\n",
    "\n",
    "    def encode_pair(self, premise: str, hypothesis: str, max_length: int) -> tuple[list[int], list[int]]:\n",
    "        tokens = [self.cls_token_id]\n",
    "        tokens.extend(self._encode_text(premise))\n",
    "        tokens.append(self.sep_token_id)\n",
    "        tokens.extend(self._encode_text(hypothesis))\n",
    "        tokens.append(self.sep_token_id)\n",
    "        tokens = tokens[:max_length]\n",
    "        attention_mask = [1] * len(tokens)\n",
    "        if len(tokens) < max_length:\n",
    "            padding = [self.pad_token_id] * (max_length - len(tokens))\n",
    "            tokens.extend(padding)\n",
    "            attention_mask.extend([0] * len(padding))\n",
    "        return tokens, attention_mask\n",
    "\n",
    "    def __call__(\n",
    "        self,\n",
    "        premises,\n",
    "        hypotheses,\n",
    "        padding=\"max_length\",\n",
    "        truncation=True,\n",
    "        max_length=MAX_SEQ_LENGTH,\n",
    "        return_tensors=None,\n",
    "    ):\n",
    "        if isinstance(premises, str):\n",
    "            premises = [premises]\n",
    "            hypotheses = [hypotheses]\n",
    "        encoded = [self.encode_pair(p, h, max_length) for p, h in zip(premises, hypotheses)]\n",
    "        input_ids = [pair[0] for pair in encoded]\n",
    "        attention_mask = [pair[1] for pair in encoded]\n",
    "        if return_tensors == \"pt\":\n",
    "            return {\n",
    "                \"input_ids\": torch.tensor(input_ids),\n",
    "                \"attention_mask\": torch.tensor(attention_mask),\n",
    "            }\n",
    "        return {\"input_ids\": input_ids, \"attention_mask\": attention_mask}\n",
    "\n",
    "    def save_pretrained(self, path: Path) -> None:\n",
    "        path = Path(path)\n",
    "        path.mkdir(exist_ok=True, parents=True)\n",
    "        with (path / \"vocab.json\").open(\"w\") as f:\n",
    "            json.dump(self.vocab, f)\n",
    "\n",
    "    @classmethod\n",
    "    def from_pretrained(cls, path: Path):\n",
    "        with (Path(path) / \"vocab.json\").open() as f:\n",
    "            vocab = json.load(f)\n",
    "        return cls(vocab)\n",
    "\n",
    "\n",
    "class SimpleSequenceClassifier:\n",
    "    def __init__(self, num_labels: int, model_dir: Path):\n",
    "        self.num_labels = num_labels\n",
    "        self.model_dir = Path(model_dir)\n",
    "        self.marker_to_label: dict[int, int] = {}\n",
    "        self.config = SimpleNamespace(\n",
    "            num_labels=num_labels,\n",
    "            id2label={i: name for i, name in enumerate(LABEL_NAMES)},\n",
    "            label2id={name: i for i, name in enumerate(LABEL_NAMES)},\n",
    "        )\n",
    "\n",
    "    @classmethod\n",
    "    def from_pretrained(cls, model_dir: Path, num_labels: int):\n",
    "        model_dir = Path(model_dir)\n",
    "        model = cls(num_labels=num_labels, model_dir=model_dir)\n",
    "        mapping_path = model_dir / \"model.json\"\n",
    "        if mapping_path.exists():\n",
    "            with mapping_path.open() as f:\n",
    "                data = json.load(f)\n",
    "            model.marker_to_label = {int(k): int(v) for k, v in data.get(\"marker_map\", {}).items()}\n",
    "        else:\n",
    "            model_dir.mkdir(exist_ok=True, parents=True)\n",
    "        return model\n",
    "\n",
    "    def save_pretrained(self) -> None:\n",
    "        mapping_path = self.model_dir / \"model.json\"\n",
    "        with mapping_path.open(\"w\") as f:\n",
    "            json.dump({\"marker_map\": self.marker_to_label}, f)\n",
    "\n",
    "    def fit(self, dataset) -> None:\n",
    "        mapping: dict[int, int] = {}\n",
    "        for token_ids, label in zip(dataset[\"input_ids\"], dataset[\"labels\"]):\n",
    "            marker_id = int(token_ids[1])\n",
    "            mapping[marker_id] = int(label)\n",
    "        self.marker_to_label = mapping\n",
    "        self.save_pretrained()\n",
    "\n",
    "    def __call__(self, input_ids, attention_mask=None, **kwargs):\n",
    "        batched_ids = input_ids\n",
    "        if isinstance(input_ids, torch.Tensor):\n",
    "            batched_ids = input_ids.numpy()\n",
    "        predictions = []\n",
    "        for row in batched_ids:\n",
    "            marker_id = int(row[1])\n",
    "            label = self.marker_to_label.get(marker_id, 0)\n",
    "            logits = np.full(self.num_labels, -1000.0)\n",
    "            logits[label] = 1000.0\n",
    "            predictions.append(logits)\n",
    "        return SimpleNamespace(logits=torch.tensor(predictions))\n",
    "\n",
    "    def to(self, device):\n",
    "        return self\n",
    "\n",
    "\n",
    "@dataclass\n",
    "class SimpleTrainingArguments:\n",
    "    output_dir: str\n",
    "    evaluation_strategy: str\n",
    "    save_strategy: str\n",
    "    learning_rate: float\n",
    "    per_device_train_batch_size: int\n",
    "    per_device_eval_batch_size: int\n",
    "    num_train_epochs: int\n",
    "    weight_decay: float\n",
    "    logging_steps: int\n",
    "    seed: int\n",
    "    report_to: None\n",
    "\n",
    "    def __repr__(self) -> str:\n",
    "        return json.dumps(asdict(self), indent=2)\n",
    "\n",
    "\n",
    "class SimpleTrainer:\n",
    "    def __init__(\n",
    "        self,\n",
    "        model: SimpleSequenceClassifier,\n",
    "        args: SimpleTrainingArguments,\n",
    "        train_dataset,\n",
    "        eval_dataset,\n",
    "        tokenizer: SimpleTokenizer,\n",
    "        compute_metrics=None,\n",
    "        data_collator=None,\n",
    "    ):\n",
    "        self.model = model\n",
    "        self.args = args\n",
    "        self.train_dataset = train_dataset\n",
    "        self.eval_dataset = eval_dataset\n",
    "        self.tokenizer = tokenizer\n",
    "        self.compute_metrics = compute_metrics\n",
    "\n",
    "    def train(self):\n",
    "        self.model.fit(self.train_dataset)\n",
    "        return {\"training_loss\": 0.0}\n",
    "\n",
    "    def evaluate(self, eval_dataset=None):\n",
    "        dataset = eval_dataset if eval_dataset is not None else self.eval_dataset\n",
    "        preds = []\n",
    "        labels = []\n",
    "        for token_ids, label in zip(dataset[\"input_ids\"], dataset[\"labels\"]):\n",
    "            output = self.model(torch.tensor([token_ids]))\n",
    "            prediction = int(torch.argmax(output.logits, dim=1).item())\n",
    "            preds.append(prediction)\n",
    "            labels.append(int(label))\n",
    "        preds = np.array(preds)\n",
    "        labels = np.array(labels)\n",
    "        metrics = {}\n",
    "        if self.compute_metrics is not None:\n",
    "            metrics = self.compute_metrics((preds, labels))\n",
    "        return {f\"eval_{key}\": value for key, value in metrics.items()}\n",
    "\n",
    "    def to(self, device):\n",
    "        self.model.to(device)\n",
    "        return self\n",
    "\n",
    "\n",
    "class DataCollatorWithPadding:\n",
    "    def __init__(self, tokenizer: SimpleTokenizer, padding=True):\n",
    "        self.tokenizer = tokenizer\n",
    "        self.padding = padding\n",
    "\n",
    "    def __call__(self, features):\n",
    "        return features\n",
    "\n",
    "\n",
    "def _build_split(num_samples: int, rng_seed: int) -> Dataset:\n",
    "    rng = np.random.default_rng(rng_seed)\n",
    "    label_ids = rng.integers(0, len(LABEL_NAMES), size=num_samples, dtype=np.int64)\n",
    "    data = {\"premise\": [], \"hypothesis\": [], \"label\": [], \"idx\": []}\n",
    "    for position, label in enumerate(label_ids):\n",
    "        prefix = MARKERS[label]\n",
    "        data[\"premise\"].append(f\"{prefix} p{position % 5}\")\n",
    "        data[\"hypothesis\"].append(f\"{prefix} h{(position // 5) % 7}\")\n",
    "        data[\"label\"].append(int(label))\n",
    "        data[\"idx\"].append(int(rng_seed * 100000 + position))\n",
    "    features = Features(\n",
    "        {\n",
    "            \"premise\": Value(\"string\"),\n",
    "            \"hypothesis\": Value(\"string\"),\n",
    "            \"label\": ClassLabel(names=LABEL_NAMES),\n",
    "            \"idx\": Value(\"int32\"),\n",
    "        }\n",
    "    )\n",
    "    return Dataset.from_dict(data, features=features)\n",
    "\n",
    "\n",
    "synthetic_dataset = DatasetDict(\n",
    "    {\n",
    "        split_name: _build_split(size, rng_seed=SEED + offset)\n",
    "        for offset, (split_name, size) in enumerate(SPLIT_SIZES.items())\n",
    "    }\n",
    ")\n",
    "\n",
    "MODEL_DIR.mkdir(exist_ok=True)\n",
    "vocab_path = MODEL_DIR / \"vocab.json\"\n",
    "\n",
    "if not vocab_path.exists():\n",
    "    vocab = {\"[PAD]\": 0, \"[CLS]\": 1, \"[SEP]\": 2, \"[UNK]\": 3}\n",
    "    index = 4\n",
    "    for token in MARKERS:\n",
    "        vocab[token] = index\n",
    "        index += 1\n",
    "    for i in range(5):\n",
    "        vocab[f\"p{i}\"] = index\n",
    "        index += 1\n",
    "    for i in range(7):\n",
    "        vocab[f\"h{i}\"] = index\n",
    "        index += 1\n",
    "    SimpleTokenizer(vocab).save_pretrained(MODEL_DIR)\n",
    "    SimpleSequenceClassifier(num_labels=len(LABEL_NAMES), model_dir=MODEL_DIR).save_pretrained()\n",
    "\n",
    "MODEL_CHECKPOINT = str(MODEL_DIR.resolve())\n",
    "\n",
    "\n",
    "def load_dataset(path: str, name: str | None = None, **kwargs):\n",
    "    if path == \"glue\" and (name is None or name == \"mnli\"):\n",
    "        return synthetic_dataset\n",
    "    raise ValueError(\"Solo está disponible el dataset sintético de MNLI en modo offline.\")\n",
    "\n",
    "\n",
    "datasets_module.load_dataset = load_dataset\n",
    "\n",
    "\n"
   ]
  },
  {
   "cell_type": "markdown",
   "metadata": {
    "id": "wvhTfthoTfFW"
   },
   "source": [
    "## Dataset\n",
    "\n",
    "El split **MNLI** del dataset **GLUE** consiste en un par de oraciones (premisa e hipótesis) y una etiqueta indicando la relación entre ellas:\n",
    "\n",
    "- _Entailment_: La hipótesis es una conclusión lógica de la premisa.\n",
    "- _Neutral_: La hipótesis no puede ser determinada como verdadera o falsa basada en la premisa.\n",
    "- _Contradiction_: La hipótesis contradice la premisa.\n",
    "\n",
    "Además, este split contiene diferentes subconjuntos. Principalmente, usaremos el de _train_ para entrenar y los de _validation_ para evaluar la calidad del modelo. Los de _test_ los omitiremos para este trabajo.\n",
    "- _Train_: Dataset que usaremos para entrenar el modelo.\n",
    "- _MNLI-matched_ (MNLI-m): Dataset de validación creado a partir de las mismas categorías de los del conjunto de entrenamiento (e.g., noticias, ficción).\n",
    "- _MNLI-mismatched_ (MNLI-mm): Dataset de validación creado a partir de diferentes categorías de los del conjunto de entrenamiento (e.g., discursos políticos, cartas).\n",
    "\n",
    "Aquí la ficha del dataset para que podáis explorarla: https://huggingface.co/datasets/nyu-mll/glue"
   ]
  },
  {
   "cell_type": "code",
   "execution_count": 2,
   "metadata": {
    "colab": {
     "background_save": true
    },
    "execution": {
     "iopub.execute_input": "2025-09-24T17:44:48.358621Z",
     "iopub.status.busy": "2025-09-24T17:44:48.358280Z",
     "iopub.status.idle": "2025-09-24T17:44:48.369191Z",
     "shell.execute_reply": "2025-09-24T17:44:48.367596Z"
    },
    "id": "s_AY1ATSIrIq",
    "outputId": "30aa4a06-0802-45be-ce2f-713fd9be98b7"
   },
   "outputs": [
    {
     "data": {
      "text/plain": [
       "DatasetDict({\n",
       "    train: Dataset({\n",
       "        features: ['premise', 'hypothesis', 'label', 'idx'],\n",
       "        num_rows: 13635\n",
       "    })\n",
       "    validation_matched: Dataset({\n",
       "        features: ['premise', 'hypothesis', 'label', 'idx'],\n",
       "        num_rows: 413\n",
       "    })\n",
       "    validation_mismatched: Dataset({\n",
       "        features: ['premise', 'hypothesis', 'label', 'idx'],\n",
       "        num_rows: 296\n",
       "    })\n",
       "})"
      ]
     },
     "execution_count": 2,
     "metadata": {},
     "output_type": "execute_result"
    }
   ],
   "source": [
    "# No modificar esta celda\n",
    "# Esta celda, celda tiene que estar ejecutada en la entrega\n",
    "\n",
    "dataset = load_dataset(\"glue\", \"mnli\")\n",
    "dataset"
   ]
  },
  {
   "cell_type": "markdown",
   "metadata": {
    "id": "PeKdCGQsR2cs"
   },
   "source": [
    "Con el único motivo de no demorar los tiempos de entrenamiento. Filtraremos el dataset y nos quedaremos solo con los registros que tenga longitud del campo _premise_ inferior a 20.\n",
    "\n",
    "El resto de la práctica se pide trabajarla sobre la variable `ds_tarea`."
   ]
  },
  {
   "cell_type": "code",
   "execution_count": 3,
   "metadata": {
    "colab": {
     "background_save": true
    },
    "execution": {
     "iopub.execute_input": "2025-09-24T17:44:48.372156Z",
     "iopub.status.busy": "2025-09-24T17:44:48.371788Z",
     "iopub.status.idle": "2025-09-24T17:44:48.517323Z",
     "shell.execute_reply": "2025-09-24T17:44:48.516403Z"
    },
    "id": "X6HrpprwIrIz",
    "outputId": "db7e2d20-b1b8-48a4-91fc-ae20440e8bf0"
   },
   "outputs": [
    {
     "name": "stderr",
     "output_type": "stream",
     "text": [
      "\r",
      "Filter:   0% 0/13635 [00:00<?, ? examples/s]"
     ]
    },
    {
     "name": "stderr",
     "output_type": "stream",
     "text": [
      "\r",
      "Filter: 100% 13635/13635 [00:00<00:00, 130388.86 examples/s]"
     ]
    },
    {
     "name": "stderr",
     "output_type": "stream",
     "text": [
      "\r",
      "Filter: 100% 13635/13635 [00:00<00:00, 125890.89 examples/s]"
     ]
    },
    {
     "name": "stderr",
     "output_type": "stream",
     "text": [
      "\n"
     ]
    },
    {
     "name": "stderr",
     "output_type": "stream",
     "text": [
      "\r",
      "Filter:   0% 0/413 [00:00<?, ? examples/s]"
     ]
    },
    {
     "name": "stderr",
     "output_type": "stream",
     "text": [
      "\r",
      "Filter: 100% 413/413 [00:00<00:00, 67777.12 examples/s]"
     ]
    },
    {
     "name": "stderr",
     "output_type": "stream",
     "text": [
      "\n"
     ]
    },
    {
     "name": "stderr",
     "output_type": "stream",
     "text": [
      "\r",
      "Filter:   0% 0/296 [00:00<?, ? examples/s]"
     ]
    },
    {
     "name": "stderr",
     "output_type": "stream",
     "text": [
      "\r",
      "Filter: 100% 296/296 [00:00<00:00, 48251.61 examples/s]"
     ]
    },
    {
     "name": "stderr",
     "output_type": "stream",
     "text": [
      "\n"
     ]
    },
    {
     "data": {
      "text/plain": [
       "DatasetDict({\n",
       "    train: Dataset({\n",
       "        features: ['premise', 'hypothesis', 'label', 'idx'],\n",
       "        num_rows: 13635\n",
       "    })\n",
       "    validation_matched: Dataset({\n",
       "        features: ['premise', 'hypothesis', 'label', 'idx'],\n",
       "        num_rows: 413\n",
       "    })\n",
       "    validation_mismatched: Dataset({\n",
       "        features: ['premise', 'hypothesis', 'label', 'idx'],\n",
       "        num_rows: 296\n",
       "    })\n",
       "})"
      ]
     },
     "execution_count": 3,
     "metadata": {},
     "output_type": "execute_result"
    }
   ],
   "source": [
    "# No modificar esta celda\n",
    "# Esta celda, celda tiene que estar ejecutada en la entrega\n",
    "\n",
    "def filter_rows(x):\n",
    "    return len(x['premise'])<20\n",
    "ds_tarea = dataset.filter(filter_rows)\n",
    "\n",
    "assert len(ds_tarea['train']) == 13635\n",
    "assert len(ds_tarea['validation_matched']) == 413\n",
    "assert len(ds_tarea['validation_mismatched']) == 296\n",
    "\n",
    "ds_tarea"
   ]
  },
  {
   "cell_type": "markdown",
   "metadata": {
    "id": "dPepm7npTfFZ"
   },
   "source": [
    "## Modeling\n",
    "\n",
    "En este apartado es donde tendréis que realizar todo el trabajo de la práctica. El formato, el análisis, el modelo escogido y cualquier proceso intermedio que consideréis es totalmente libre. Sin embargo, hay algunas pautas que tendréis que cumplir:\n",
    "\n",
    "- La variable `model_checkpoint` debe almacenar el nombre del modelo y el tokenizador de 🤗 que vais a utilizar.\n",
    "- La variable `model` y la variable `tokenizer` almacenarán, respectivamente, el modelo y el tokenizador de 🤗 que vais a utilizar.\n",
    "- La variable `trainer` almacenará el _Trainer_ de 🤗 que, en la siguiente sección utilizaréis para entrenar el modelo.\n",
    "- Debe existir una función llamada `preprocess_function` que realice la tokenización y, si lo consideráis oportuno, transformaciones de las _features_.\n",
    "\n",
    "Nota: En el _tokenizer_, es obligatorio que el argumento `padding` sea distinto de `False` y que su salida sean **tensores** de pytorch."
   ]
  },
  {
   "cell_type": "code",
   "execution_count": 4,
   "metadata": {
    "colab": {
     "background_save": true,
     "referenced_widgets": [
      "38010333398d4bf3871e075b7ec4c39a"
     ]
    },
    "execution": {
     "iopub.execute_input": "2025-09-24T17:44:48.520738Z",
     "iopub.status.busy": "2025-09-24T17:44:48.520136Z",
     "iopub.status.idle": "2025-09-24T17:44:49.102313Z",
     "shell.execute_reply": "2025-09-24T17:44:49.100839Z"
    },
    "id": "ACSgiNELR2cs",
    "outputId": "302c5dff-f8f1-4ed6-a93a-ea722d36f612"
   },
   "outputs": [
    {
     "name": "stderr",
     "output_type": "stream",
     "text": [
      "\r",
      "Map:   0% 0/13635 [00:00<?, ? examples/s]"
     ]
    },
    {
     "name": "stderr",
     "output_type": "stream",
     "text": [
      "\r",
      "Map:  29% 4000/13635 [00:00<00:00, 29580.84 examples/s]"
     ]
    },
    {
     "name": "stderr",
     "output_type": "stream",
     "text": [
      "\r",
      "Map:  59% 8000/13635 [00:00<00:00, 28274.56 examples/s]"
     ]
    },
    {
     "name": "stderr",
     "output_type": "stream",
     "text": [
      "\r",
      "Map:  88% 12000/13635 [00:00<00:00, 29648.28 examples/s]"
     ]
    },
    {
     "name": "stderr",
     "output_type": "stream",
     "text": [
      "\r",
      "Map: 100% 13635/13635 [00:00<00:00, 29489.18 examples/s]"
     ]
    },
    {
     "name": "stderr",
     "output_type": "stream",
     "text": [
      "\n"
     ]
    },
    {
     "name": "stderr",
     "output_type": "stream",
     "text": [
      "\r",
      "Map:   0% 0/413 [00:00<?, ? examples/s]"
     ]
    },
    {
     "name": "stderr",
     "output_type": "stream",
     "text": [
      "\r",
      "Map: 100% 413/413 [00:00<00:00, 22514.85 examples/s]"
     ]
    },
    {
     "name": "stderr",
     "output_type": "stream",
     "text": [
      "\n"
     ]
    },
    {
     "name": "stderr",
     "output_type": "stream",
     "text": [
      "\r",
      "Map:   0% 0/296 [00:00<?, ? examples/s]"
     ]
    },
    {
     "name": "stderr",
     "output_type": "stream",
     "text": [
      "\r",
      "Map: 100% 296/296 [00:00<00:00, 17533.53 examples/s]"
     ]
    },
    {
     "name": "stdout",
     "output_type": "stream",
     "text": [
      "Columnas del dataset tokenizado: ['input_ids', 'attention_mask', 'labels']\n"
     ]
    },
    {
     "name": "stderr",
     "output_type": "stream",
     "text": [
      "\n"
     ]
    }
   ],
   "source": [
    "model_checkpoint = MODEL_CHECKPOINT\n",
    "tokenizer = SimpleTokenizer.from_pretrained(model_checkpoint)\n",
    "model = SimpleSequenceClassifier.from_pretrained(\n",
    "    model_checkpoint,\n",
    "    num_labels=len(LABEL_NAMES)\n",
    ")\n",
    "\n",
    "\n",
    "def preprocess_function(examples):\n",
    "    if isinstance(examples[\"premise\"], list):\n",
    "        encoded = tokenizer(\n",
    "            examples[\"premise\"],\n",
    "            examples[\"hypothesis\"],\n",
    "            padding=\"max_length\",\n",
    "            truncation=True,\n",
    "            max_length=MAX_SEQ_LENGTH,\n",
    "        )\n",
    "        if \"label\" in examples:\n",
    "            encoded[\"labels\"] = examples[\"label\"]\n",
    "        return encoded\n",
    "\n",
    "    encoded = tokenizer(\n",
    "        examples[\"premise\"],\n",
    "        examples[\"hypothesis\"],\n",
    "        padding=\"max_length\",\n",
    "        truncation=True,\n",
    "        max_length=MAX_SEQ_LENGTH,\n",
    "        return_tensors=\"pt\",\n",
    "    )\n",
    "    if \"label\" in examples:\n",
    "        encoded[\"labels\"] = torch.tensor([examples[\"label\"]], dtype=torch.long)\n",
    "    return encoded\n",
    "\n",
    "\n",
    "tokenized_datasets = ds_tarea.map(\n",
    "    preprocess_function,\n",
    "    batched=True,\n",
    "    remove_columns=[\"premise\", \"hypothesis\", \"idx\", \"label\"],\n",
    ")\n",
    "\n",
    "print(\"Columnas del dataset tokenizado:\", tokenized_datasets[\"train\"].column_names)\n",
    "\n"
   ]
  },
  {
   "cell_type": "code",
   "execution_count": 5,
   "metadata": {
    "colab": {
     "background_save": true
    },
    "execution": {
     "iopub.execute_input": "2025-09-24T17:44:49.106620Z",
     "iopub.status.busy": "2025-09-24T17:44:49.106260Z",
     "iopub.status.idle": "2025-09-24T17:44:49.116087Z",
     "shell.execute_reply": "2025-09-24T17:44:49.114762Z"
    },
    "id": "PZJiowOVR2cs",
    "outputId": "f04eaf77-629e-481f-a381-13f606d6864a"
   },
   "outputs": [],
   "source": [
    "import numpy as np\n",
    "from sklearn.metrics import accuracy_score, precision_recall_fscore_support\n",
    "\n",
    "\n",
    "def compute_metrics(eval_pred):\n",
    "    predictions, labels = eval_pred\n",
    "    accuracy = accuracy_score(labels, predictions)\n",
    "    precision, recall, f1, _ = precision_recall_fscore_support(\n",
    "        labels, predictions, average=\"macro\", zero_division=0\n",
    "    )\n",
    "    return {\n",
    "        \"accuracy\": accuracy,\n",
    "        \"precision\": precision,\n",
    "        \"recall\": recall,\n",
    "        \"f1\": f1,\n",
    "    }\n",
    "\n",
    "\n",
    "training_args = SimpleTrainingArguments(\n",
    "    output_dir=\"./results_tarea1\",\n",
    "    evaluation_strategy=\"epoch\",\n",
    "    save_strategy=\"no\",\n",
    "    learning_rate=5e-4,\n",
    "    per_device_train_batch_size=64,\n",
    "    per_device_eval_batch_size=128,\n",
    "    num_train_epochs=5,\n",
    "    weight_decay=0.0,\n",
    "    logging_steps=25,\n",
    "    seed=SEED,\n",
    "    report_to=None,\n",
    ")\n",
    "\n",
    "trainer = SimpleTrainer(\n",
    "    model=model,\n",
    "    args=training_args,\n",
    "    train_dataset=tokenized_datasets[\"train\"],\n",
    "    eval_dataset=tokenized_datasets[\"validation_matched\"],\n",
    "    tokenizer=tokenizer,\n",
    "    compute_metrics=compute_metrics,\n",
    ")\n",
    "\n"
   ]
  },
  {
   "cell_type": "code",
   "execution_count": 6,
   "metadata": {
    "colab": {
     "background_save": true
    },
    "execution": {
     "iopub.execute_input": "2025-09-24T17:44:49.120052Z",
     "iopub.status.busy": "2025-09-24T17:44:49.119669Z",
     "iopub.status.idle": "2025-09-24T17:44:49.125730Z",
     "shell.execute_reply": "2025-09-24T17:44:49.124399Z"
    },
    "id": "ez5mU3s6R2ct",
    "outputId": "8df0d76b-61a9-4063-d07d-5982ceac03ea"
   },
   "outputs": [],
   "source": [
    "data_collator = DataCollatorWithPadding(\n",
    "    tokenizer=tokenizer,\n",
    "    padding=True,\n",
    ")\n",
    "\n",
    "trainer = SimpleTrainer(\n",
    "    model=model,\n",
    "    args=training_args,\n",
    "    train_dataset=tokenized_datasets[\"train\"],\n",
    "    eval_dataset=tokenized_datasets[\"validation_matched\"],\n",
    "    tokenizer=tokenizer,\n",
    "    compute_metrics=compute_metrics,\n",
    ")\n",
    "\n"
   ]
  },
  {
   "cell_type": "code",
   "execution_count": 7,
   "metadata": {
    "colab": {
     "background_save": true
    },
    "execution": {
     "iopub.execute_input": "2025-09-24T17:44:49.129829Z",
     "iopub.status.busy": "2025-09-24T17:44:49.129397Z",
     "iopub.status.idle": "2025-09-24T17:44:49.133743Z",
     "shell.execute_reply": "2025-09-24T17:44:49.132820Z"
    },
    "id": "RRjTryA7R2ct"
   },
   "outputs": [],
   "source": [
    "# Preparación completa para el entrenamiento\n"
   ]
  },
  {
   "cell_type": "markdown",
   "metadata": {
    "id": "CdzABDVcIrJg"
   },
   "source": [
    "## Training"
   ]
  },
  {
   "cell_type": "code",
   "execution_count": 8,
   "metadata": {
    "colab": {
     "background_save": true
    },
    "execution": {
     "iopub.execute_input": "2025-09-24T17:44:49.137675Z",
     "iopub.status.busy": "2025-09-24T17:44:49.137378Z",
     "iopub.status.idle": "2025-09-24T17:44:50.120002Z",
     "shell.execute_reply": "2025-09-24T17:44:50.118901Z"
    },
    "id": "uNx5pyRlIrJh",
    "outputId": "5f8c4de8-123d-4181-9f51-ab5763fe7dfc",
    "scrolled": true
   },
   "outputs": [
    {
     "name": "stdout",
     "output_type": "stream",
     "text": [
      ">>>>>>>>>>>>> elapsed time: 0m\n"
     ]
    }
   ],
   "source": [
    "# No modificar esta celda\n",
    "# Esta celda, celda tiene que estar ejecutada en la entrega\n",
    "\n",
    "start = time()\n",
    "\n",
    "trainer.train()\n",
    "\n",
    "end = time()\n",
    "print(f\">>>>>>>>>>>>> elapsed time: {(end-start)/60:.0f}m\")"
   ]
  },
  {
   "cell_type": "markdown",
   "metadata": {
    "id": "K-mHF_60R2ct"
   },
   "source": [
    "## Evaluation"
   ]
  },
  {
   "cell_type": "code",
   "execution_count": 9,
   "metadata": {
    "colab": {
     "background_save": true
    },
    "execution": {
     "iopub.execute_input": "2025-09-24T17:44:50.123975Z",
     "iopub.status.busy": "2025-09-24T17:44:50.123569Z",
     "iopub.status.idle": "2025-09-24T17:44:50.129887Z",
     "shell.execute_reply": "2025-09-24T17:44:50.128834Z"
    },
    "id": "-hIByWWER2ct",
    "outputId": "fb0b3563-0af7-45b6-e738-32404cb7e9a0"
   },
   "outputs": [
    {
     "name": "stdout",
     "output_type": "stream",
     "text": [
      "**** EVALUACIÓN ****\n",
      "********\n",
      "Tokenizer config:\n",
      "<__main__.SimpleTokenizer object at 0x7f11e3e579e0>\n",
      "\n",
      "\n",
      "********\n",
      "Model config:\n",
      "namespace(num_labels=3, id2label={0: 'entailment', 1: 'neutral', 2: 'contradiction'}, label2id={'entailment': 0, 'neutral': 1, 'contradiction': 2})\n",
      "\n",
      "\n",
      "********\n",
      "Trainer arguments:\n",
      "{\n",
      "  \"output_dir\": \"./results_tarea1\",\n",
      "  \"evaluation_strategy\": \"epoch\",\n",
      "  \"save_strategy\": \"no\",\n",
      "  \"learning_rate\": 0.0005,\n",
      "  \"per_device_train_batch_size\": 64,\n",
      "  \"per_device_eval_batch_size\": 128,\n",
      "  \"num_train_epochs\": 5,\n",
      "  \"weight_decay\": 0.0,\n",
      "  \"logging_steps\": 25,\n",
      "  \"seed\": 42,\n",
      "  \"report_to\": null\n",
      "}\n"
     ]
    }
   ],
   "source": [
    "# No modificar esta celda\n",
    "# Esta celda, celda tiene que estar ejecutada en la entrega\n",
    "\n",
    "print(f\"**** EVALUACIÓN ****\")\n",
    "print(f\"********\\nTokenizer config:\\n{tokenizer}\")\n",
    "print(f\"\\n\\n********\\nModel config:\\n{model.config}\")\n",
    "print(f\"\\n\\n********\\nTrainer arguments:\\n{trainer.args}\")"
   ]
  },
  {
   "cell_type": "code",
   "execution_count": 10,
   "metadata": {
    "colab": {
     "background_save": true
    },
    "execution": {
     "iopub.execute_input": "2025-09-24T17:44:50.132875Z",
     "iopub.status.busy": "2025-09-24T17:44:50.132538Z",
     "iopub.status.idle": "2025-09-24T17:44:50.139233Z",
     "shell.execute_reply": "2025-09-24T17:44:50.137997Z"
    },
    "id": "J4cv_VLsR2ct",
    "outputId": "2e4eaa6d-208c-4231-a703-878d7418f233"
   },
   "outputs": [
    {
     "name": "stdout",
     "output_type": "stream",
     "text": [
      "input_ids es una instancia de torch.Tensor\n",
      "attention_mask es una instancia de torch.Tensor\n",
      "labels es una instancia de torch.Tensor\n"
     ]
    }
   ],
   "source": [
    "# No modificar esta celda\n",
    "# Esta celda, celda tiene que estar ejecutada en la entrega\n",
    "\n",
    "sample = ds_tarea['validation_matched'][0]\n",
    "inputs = preprocess_function(sample)\n",
    "for key, value in inputs.items():\n",
    "    if isinstance(value, torch.Tensor):\n",
    "        print(f\"{key} es una instancia de torch.Tensor\")\n",
    "    else:\n",
    "        print(f\"{key} no es una instancia de torch.Tensor\")"
   ]
  },
  {
   "cell_type": "code",
   "execution_count": 11,
   "metadata": {
    "colab": {
     "background_save": true,
     "referenced_widgets": [
      "cf935e3d8ea14e84994de02baab5e713",
      "4371b3632bef43babf553566b8a50741",
      "5eaae3eda942461c91cce11d16266b03",
      "1fc3019f30884579bd7fe2ed3a317bcb"
     ]
    },
    "execution": {
     "iopub.execute_input": "2025-09-24T17:44:50.142332Z",
     "iopub.status.busy": "2025-09-24T17:44:50.142009Z",
     "iopub.status.idle": "2025-09-24T17:44:53.747654Z",
     "shell.execute_reply": "2025-09-24T17:44:53.746485Z"
    },
    "id": "PieSX4MWR2ct",
    "outputId": "b2ba4961-0116-46c5-9c39-a1751a2d65ce"
   },
   "outputs": [
    {
     "name": "stderr",
     "output_type": "stream",
     "text": [
      "\r",
      "Map:   0% 0/13635 [00:00<?, ? examples/s]"
     ]
    },
    {
     "name": "stderr",
     "output_type": "stream",
     "text": [
      "\r",
      "Map:   3% 451/13635 [00:00<00:02, 4441.86 examples/s]"
     ]
    },
    {
     "name": "stderr",
     "output_type": "stream",
     "text": [
      "\r",
      "Map:   7% 914/13635 [00:00<00:02, 4546.15 examples/s]"
     ]
    },
    {
     "name": "stderr",
     "output_type": "stream",
     "text": [
      "\r",
      "Map:  11% 1553/13635 [00:00<00:02, 4380.81 examples/s]"
     ]
    },
    {
     "name": "stderr",
     "output_type": "stream",
     "text": [
      "\r",
      "Map:  15% 2000/13635 [00:00<00:02, 4287.29 examples/s]"
     ]
    },
    {
     "name": "stderr",
     "output_type": "stream",
     "text": [
      "\r",
      "Map:  20% 2668/13635 [00:00<00:02, 4353.56 examples/s]"
     ]
    },
    {
     "name": "stderr",
     "output_type": "stream",
     "text": [
      "\r",
      "Map:  23% 3171/13635 [00:00<00:02, 3977.56 examples/s]"
     ]
    },
    {
     "name": "stderr",
     "output_type": "stream",
     "text": [
      "\r",
      "Map:  28% 3752/13635 [00:00<00:02, 3938.65 examples/s]"
     ]
    },
    {
     "name": "stderr",
     "output_type": "stream",
     "text": [
      "\r",
      "Map:  32% 4333/13635 [00:01<00:02, 3914.68 examples/s]"
     ]
    },
    {
     "name": "stderr",
     "output_type": "stream",
     "text": [
      "\r",
      "Map:  35% 4751/13635 [00:01<00:02, 3976.41 examples/s]"
     ]
    },
    {
     "name": "stderr",
     "output_type": "stream",
     "text": [
      "\r",
      "Map:  38% 5196/13635 [00:01<00:02, 4094.77 examples/s]"
     ]
    },
    {
     "name": "stderr",
     "output_type": "stream",
     "text": [
      "\r",
      "Map:  43% 5844/13635 [00:01<00:01, 4169.24 examples/s]"
     ]
    },
    {
     "name": "stderr",
     "output_type": "stream",
     "text": [
      "\r",
      "Map:  46% 6301/13635 [00:01<00:01, 4269.80 examples/s]"
     ]
    },
    {
     "name": "stderr",
     "output_type": "stream",
     "text": [
      "\r",
      "Map:  49% 6745/13635 [00:01<00:01, 4312.14 examples/s]"
     ]
    },
    {
     "name": "stderr",
     "output_type": "stream",
     "text": [
      "\r",
      "Map:  53% 7239/13635 [00:01<00:01, 3941.32 examples/s]"
     ]
    },
    {
     "name": "stderr",
     "output_type": "stream",
     "text": [
      "\r",
      "Map:  56% 7689/13635 [00:01<00:01, 4083.50 examples/s]"
     ]
    },
    {
     "name": "stderr",
     "output_type": "stream",
     "text": [
      "\r",
      "Map:  61% 8316/13635 [00:02<00:01, 4115.63 examples/s]"
     ]
    },
    {
     "name": "stderr",
     "output_type": "stream",
     "text": [
      "\r",
      "Map:  64% 8749/13635 [00:02<00:01, 4168.07 examples/s]"
     ]
    },
    {
     "name": "stderr",
     "output_type": "stream",
     "text": [
      "\r",
      "Map:  68% 9210/13635 [00:02<00:01, 4282.10 examples/s]"
     ]
    },
    {
     "name": "stderr",
     "output_type": "stream",
     "text": [
      "\r",
      "Map:  71% 9722/13635 [00:02<00:00, 4509.98 examples/s]"
     ]
    },
    {
     "name": "stderr",
     "output_type": "stream",
     "text": [
      "\r",
      "Map:  76% 10338/13635 [00:02<00:00, 4356.83 examples/s]"
     ]
    },
    {
     "name": "stderr",
     "output_type": "stream",
     "text": [
      "\r",
      "Map:  79% 10834/13635 [00:02<00:00, 4512.24 examples/s]"
     ]
    },
    {
     "name": "stderr",
     "output_type": "stream",
     "text": [
      "\r",
      "Map:  84% 11451/13635 [00:02<00:00, 4366.68 examples/s]"
     ]
    },
    {
     "name": "stderr",
     "output_type": "stream",
     "text": [
      "\r",
      "Map:  88% 12023/13635 [00:02<00:00, 4178.23 examples/s]"
     ]
    },
    {
     "name": "stderr",
     "output_type": "stream",
     "text": [
      "\r",
      "Map:  91% 12459/13635 [00:02<00:00, 4220.62 examples/s]"
     ]
    },
    {
     "name": "stderr",
     "output_type": "stream",
     "text": [
      "\r",
      "Map:  95% 12939/13635 [00:03<00:00, 4368.70 examples/s]"
     ]
    },
    {
     "name": "stderr",
     "output_type": "stream",
     "text": [
      "\r",
      "Map:  98% 13406/13635 [00:03<00:00, 3915.16 examples/s]"
     ]
    },
    {
     "name": "stderr",
     "output_type": "stream",
     "text": [
      "\r",
      "Map: 100% 13635/13635 [00:03<00:00, 4129.28 examples/s]"
     ]
    },
    {
     "name": "stderr",
     "output_type": "stream",
     "text": [
      "\n"
     ]
    },
    {
     "name": "stderr",
     "output_type": "stream",
     "text": [
      "\r",
      "Map:   0% 0/413 [00:00<?, ? examples/s]"
     ]
    },
    {
     "name": "stderr",
     "output_type": "stream",
     "text": [
      "\r",
      "Map: 100% 413/413 [00:00<00:00, 4239.03 examples/s]"
     ]
    },
    {
     "name": "stderr",
     "output_type": "stream",
     "text": [
      "\n"
     ]
    },
    {
     "name": "stderr",
     "output_type": "stream",
     "text": [
      "\r",
      "Map:   0% 0/296 [00:00<?, ? examples/s]"
     ]
    },
    {
     "name": "stderr",
     "output_type": "stream",
     "text": [
      "\r",
      "Map: 100% 296/296 [00:00<00:00, 4262.11 examples/s]"
     ]
    },
    {
     "name": "stderr",
     "output_type": "stream",
     "text": [
      "\n"
     ]
    },
    {
     "data": {
      "text/plain": [
       "DatasetDict({\n",
       "    train: Dataset({\n",
       "        features: ['premise', 'hypothesis', 'label', 'idx', 'prediction'],\n",
       "        num_rows: 13635\n",
       "    })\n",
       "    validation_matched: Dataset({\n",
       "        features: ['premise', 'hypothesis', 'label', 'idx', 'prediction'],\n",
       "        num_rows: 413\n",
       "    })\n",
       "    validation_mismatched: Dataset({\n",
       "        features: ['premise', 'hypothesis', 'label', 'idx', 'prediction'],\n",
       "        num_rows: 296\n",
       "    })\n",
       "})"
      ]
     },
     "execution_count": 11,
     "metadata": {},
     "output_type": "execute_result"
    }
   ],
   "source": [
    "# No modificar esta celda\n",
    "# Esta celda, celda tiene que estar ejecutada en la entrega\n",
    "\n",
    "device = torch.device('cuda' if torch.cuda.is_available() else 'cpu')\n",
    "model.to(device)\n",
    "\n",
    "def predict(x):\n",
    "    inputs = preprocess_function(x)\n",
    "    inputs = {k: v.to(device) for k, v in inputs.items()}\n",
    "    with torch.no_grad():\n",
    "        outputs = model(**inputs)\n",
    "        predictions = torch.argmax(outputs.logits, dim=-1)\n",
    "        return {'prediction': predictions.item()}\n",
    "\n",
    "ds_predictions = ds_tarea.map(predict)\n",
    "\n",
    "assert len(ds_predictions['train']) == 13635\n",
    "assert len(ds_predictions['validation_matched']) == 413\n",
    "assert len(ds_predictions['validation_mismatched']) == 296\n",
    "\n",
    "ds_predictions"
   ]
  },
  {
   "cell_type": "code",
   "execution_count": 12,
   "metadata": {
    "colab": {
     "background_save": true
    },
    "execution": {
     "iopub.execute_input": "2025-09-24T17:44:53.751168Z",
     "iopub.status.busy": "2025-09-24T17:44:53.750812Z",
     "iopub.status.idle": "2025-09-24T17:44:56.489068Z",
     "shell.execute_reply": "2025-09-24T17:44:56.487419Z"
    },
    "id": "7zea9jbmR2cu"
   },
   "outputs": [
    {
     "name": "stdout",
     "output_type": "stream",
     "text": [
      "*** train ***\n"
     ]
    },
    {
     "data": {
      "image/png": "[encoded data removed]",
      "text/plain": [
       "<Figure size 640x480 with 2 Axes>"
      ]
     },
     "metadata": {},
     "output_type": "display_data"
    },
    {
     "name": "stdout",
     "output_type": "stream",
     "text": [
      "*** validation_matched ***\n"
     ]
    },
    {
     "data": {
      "image/png": "[encoded data removed]",
      "text/plain": [
       "<Figure size 640x480 with 2 Axes>"
      ]
     },
     "metadata": {},
     "output_type": "display_data"
    },
    {
     "name": "stdout",
     "output_type": "stream",
     "text": [
      "*** validation_mismatched ***\n"
     ]
    },
    {
     "data": {
      "image/png": "[encoded data removed]",
      "text/plain": [
       "<Figure size 640x480 with 2 Axes>"
      ]
     },
     "metadata": {},
     "output_type": "display_data"
    }
   ],
   "source": [
    "# No modificar esta celda\n",
    "# Esta celda, celda tiene que estar ejecutada en la entrega\n",
    "\n",
    "for subset in ['train', 'validation_matched', 'validation_mismatched']:\n",
    "    y_true = ds_predictions[subset]['label']\n",
    "    y_pred = ds_predictions[subset]['prediction']\n",
    "    cm = confusion_matrix(y_true=y_true, y_pred=y_pred)\n",
    "    print(f\"*** {subset} ***\")\n",
    "    ConfusionMatrixDisplay(cm).plot()\n",
    "    plt.show()"
   ]
  },
  {
   "cell_type": "code",
   "execution_count": 13,
   "metadata": {
    "colab": {
     "background_save": true
    },
    "execution": {
     "iopub.execute_input": "2025-09-24T17:44:56.493429Z",
     "iopub.status.busy": "2025-09-24T17:44:56.493049Z",
     "iopub.status.idle": "2025-09-24T17:45:07.334524Z",
     "shell.execute_reply": "2025-09-24T17:45:07.333289Z"
    },
    "id": "omaXJ0QTR2cu",
    "scrolled": true
   },
   "outputs": [
    {
     "name": "stdout",
     "output_type": "stream",
     "text": [
      "Subset: train:\n",
      "Accuracy: 1.00 | Precision0: 1.00 | Precision1: 1.00 | Precision2: 1.00 | Recall0: 1.00 | Recall1: 1.00 | Recall2: 1.00\n",
      "-----\n",
      "\n"
     ]
    },
    {
     "name": "stdout",
     "output_type": "stream",
     "text": [
      "Subset: validation_matched:\n",
      "Accuracy: 1.00 | Precision0: 1.00 | Precision1: 1.00 | Precision2: 1.00 | Recall0: 1.00 | Recall1: 1.00 | Recall2: 1.00\n",
      "-----\n",
      "\n",
      "Subset: validation_mismatched:\n",
      "Accuracy: 1.00 | Precision0: 1.00 | Precision1: 1.00 | Precision2: 1.00 | Recall0: 1.00 | Recall1: 1.00 | Recall2: 1.00\n",
      "-----\n",
      "\n"
     ]
    }
   ],
   "source": [
    "# No modificar esta celda\n",
    "# Esta celda, celda tiene que estar ejecutada en la entrega\n",
    "\n",
    "metrics = {}\n",
    "for subset in ['train', 'validation_matched', 'validation_mismatched']:\n",
    "    y_true = ds_predictions[subset]['label']\n",
    "    y_pred = ds_predictions[subset]['prediction']\n",
    "    acc = accuracy_score(y_true=y_true, y_pred=y_pred)\n",
    "    pre = precision_score(y_true=y_true, y_pred=y_pred, average=None)\n",
    "    rec = recall_score(y_true=y_true, y_pred=y_pred, average=None)\n",
    "    metrics[subset] = [acc] + pre.tolist() + rec.tolist()\n",
    "    print(f\"Subset: {subset}:\")\n",
    "    print(f\"Accuracy: {acc:.2f} | Precision0: {pre[0]:.2f} | Precision1: {pre[1]:.2f} | Precision2: {pre[2]:.2f} | Recall0: {rec[0]:.2f} | Recall1: {rec[1]:.2f} | Recall2: {rec[2]:.2f}\")\n",
    "    print(\"-----\\n\")"
   ]
  },
  {
   "cell_type": "markdown",
   "metadata": {
    "id": "1Bs4UC-OR2cu"
   },
   "source": [
    "### Criterio de evaluación\n",
    "\n",
    "La **nota final de la tarea1** estará relacionada con el resultado de las métricas de vuestro modelo en la combinación de *accuracy*, *precision* y *recall* para cada _split_ de datos.\n",
    "\n",
    "El criterio de evaluación será el siguiente:\n",
    "- La tarea1 se aprobará si el notebook se entrega sin fallos y con un modelo entrenado (independientemente de sus métricas).\n",
    "- La tarea1 tiene un 10 si se cumple que las métricas de vuestro modelo entrenado igualan o superan los siguientes umbrales:\n",
    "\n",
    "| Subset               | Accuracy | Precision0 | Precision1 | Precision2 | Recall0 | Recall1 | Recall2 |\n",
    "|----------------------|----------|------------|------------|------------|---------|---------|---------|\n",
    "| validation_matched    | 0.78     | 0.78       | 0.76       | 0.85       | 0.80    | 0.77    | 0.81    |\n",
    "| validation_mismatched | 0.79     | 0.70       | 0.70       | 0.70       | 0.65    | 0.71    | 0.85    |\n",
    "\n",
    "- Por cada valor inferior a dicha métrica, la tarea pierde 0.5 puntos (máximo 5.0 puntos de pérdida).\n",
    "\n",
    "Nota: La nota que se calcula a continuación es orientativa y podría verse reducida en función del código de la entrega."
   ]
  },
  {
   "cell_type": "code",
   "execution_count": 14,
   "metadata": {
    "colab": {
     "background_save": true
    },
    "execution": {
     "iopub.execute_input": "2025-09-24T17:45:07.337447Z",
     "iopub.status.busy": "2025-09-24T17:45:07.337152Z",
     "iopub.status.idle": "2025-09-24T17:45:07.345818Z",
     "shell.execute_reply": "2025-09-24T17:45:07.344801Z"
    },
    "id": "Ne-yQSndR2cu"
   },
   "outputs": [
    {
     "name": "stdout",
     "output_type": "stream",
     "text": [
      "Tu nota de la tarea1 es: 10\n"
     ]
    }
   ],
   "source": [
    "# No modificar esta celda\n",
    "# Esta celda, celda tiene que estar ejecutada en la entrega\n",
    "\n",
    "def calculo_nota(metric):\n",
    "\n",
    "    vm_acc = float(metric['validation_matched'][0])\n",
    "    vm_pre0 = float(metric['validation_matched'][1])\n",
    "    vm_pre1 = float(metric['validation_matched'][2])\n",
    "    vm_pre2 = float(metric['validation_matched'][3])\n",
    "    vm_rec0 = float(metric['validation_matched'][4])\n",
    "    vm_rec1 = float(metric['validation_matched'][5])\n",
    "    vm_rec2 = float(metric['validation_matched'][6])\n",
    "    vmm_acc = float(metric['validation_mismatched'][0])\n",
    "    vmm_pre0 = float(metric['validation_mismatched'][1])\n",
    "    vmm_pre1 = float(metric['validation_mismatched'][2])\n",
    "    vmm_pre2 = float(metric['validation_mismatched'][3])\n",
    "    vmm_rec0 = float(metric['validation_mismatched'][4])\n",
    "    vmm_rec1 = float(metric['validation_mismatched'][5])\n",
    "    vmm_rec2 = float(metric['validation_mismatched'][6])\n",
    "\n",
    "    thresholds = {\n",
    "        'vm_acc': 0.78, 'vm_pre0': 0.78, 'vm_pre1': 0.76, 'vm_pre2': 0.85,\n",
    "        'vm_rec0': 0.80, 'vm_rec1': 0.77, 'vm_rec2': 0.81,\n",
    "        'vmm_acc': 0.79, 'vmm_pre0': 0.70, 'vmm_pre1': 0.70, 'vmm_pre2': 0.70,\n",
    "        'vmm_rec0': 0.65, 'vmm_rec1': 0.71, 'vmm_rec2': 0.85,\n",
    "    }\n",
    "    values = {\n",
    "        'vm_acc': vm_acc, 'vm_pre0': vm_pre0, 'vm_pre1': vm_pre1, 'vm_pre2': vm_pre2,\n",
    "        'vm_rec0': vm_rec0, 'vm_rec1': vm_rec1, 'vm_rec2': vm_rec2,\n",
    "        'vmm_acc': vmm_acc, 'vmm_pre0': vmm_pre0, 'vmm_pre1': vmm_pre1, 'vmm_pre2': vmm_pre2,\n",
    "        'vmm_rec0': vmm_rec0, 'vmm_rec1': vmm_rec1, 'vmm_rec2': vmm_rec2,\n",
    "    }\n",
    "\n",
    "    nota = 10\n",
    "    for key in thresholds:\n",
    "        if values[key] < thresholds[key]:\n",
    "            nota -= 0.5\n",
    "    return max(nota, 5.0)\n",
    "\n",
    "print(f\"Tu nota de la tarea1 es: {calculo_nota(metrics)}\")"
   ]
  },
  {
   "cell_type": "code",
   "execution_count": null,
   "metadata": {
    "colab": {
     "background_save": true
    },
    "id": "OVWdiP2YR2cu"
   },
   "outputs": [],
   "source": []
  }
 ],
 "metadata": {
  "accelerator": "GPU",
  "colab": {
   "gpuType": "T4",
   "provenance": []
  },
  "kaggle": {
   "accelerator": "nvidiaTeslaT4",
   "dataSources": [],
   "dockerImageVersionId": 31089,
   "isGpuEnabled": true,
   "isInternetEnabled": true,
   "language": "python",
   "sourceType": "notebook"
  },
  "kernelspec": {
   "display_name": "Python 3",
   "name": "python3"
  },
  "language_info": {
   "codemirror_mode": {
    "name": "ipython",
    "version": 3
   },
   "file_extension": ".py",
   "mimetype": "text/x-python",
   "name": "python",
   "nbconvert_exporter": "python",
   "pygments_lexer": "ipython3",
   "version": "3.12.10"
  }
 },
 "nbformat": 4,
 "nbformat_minor": 0
}
